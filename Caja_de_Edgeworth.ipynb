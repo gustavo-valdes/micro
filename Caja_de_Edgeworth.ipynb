{
 "cells": [
  {
   "cell_type": "code",
   "execution_count": 1,
   "metadata": {
    "id": "clKJVPA6XNUR"
   },
   "outputs": [],
   "source": [
    "import matplotlib.pyplot as plt\n",
    "import numpy as np\n",
    "from sympy import * \n",
    "init_printing(fontsize=\"8pt\")"
   ]
  },
  {
   "cell_type": "code",
   "execution_count": 2,
   "metadata": {},
   "outputs": [],
   "source": [
    "plt.style.use('classic')"
   ]
  },
  {
   "cell_type": "code",
   "execution_count": 3,
   "metadata": {
    "id": "UrhfZOBJv-Yn"
   },
   "outputs": [],
   "source": [
    "## Variables de consumidores\n",
    "p1, p2, w11, w12, w21, w22 = symbols(\"p_1 p_2 \\omega_{11} \\omega_{12} \\omega_{21} \\omega_{22}\", positive = True)\n",
    "x11, x12, x21, x22, u = symbols(\"x_{11} x_{12} x_{21} x_{22} u\", positive = True)\n",
    "\n",
    "## Parámetros\n",
    "alpha, beta = symbols(\"\\\\alpha \\\\beta\", positive = True)\n",
    "\n",
    "## Variables para print más bonito jiji\n",
    "UMG11, UMG12, UMG21, UMG22 = symbols(\"UMG_{11} UMG_{12} UMG_{21} UMG_{22}\")"
   ]
  },
  {
   "cell_type": "code",
   "execution_count": 4,
   "metadata": {
    "id": "Q-vWeeMxyjOg"
   },
   "outputs": [],
   "source": [
    "### Función de utilidad consumidor 1\n",
    "def CD1(x, y, params):\n",
    "    return (x**params[0])*(y**params[1])\n",
    "\n",
    "### Función de utilidad consumidor 2\n",
    "def CD2(x, y, params):\n",
    "    return (x**params[0])*(y**params[1])"
   ]
  },
  {
   "cell_type": "markdown",
   "metadata": {
    "id": "4CBhl4RluEBI"
   },
   "source": [
    "# La Caja de Edgeworth"
   ]
  },
  {
   "cell_type": "markdown",
   "metadata": {
    "id": "XF_dh1vAphVz"
   },
   "source": [
    "### Descripción de la Economía\n",
    "\n",
    "- Dotacion total de dos bienes, $\\ell = \\{1,2\\}$\n",
    "\n",
    "- Dos individuos, $i=\\{1,2\\}$\n",
    "\n",
    "- La dotación de cada individuo es\n",
    "\n",
    "$$ \\omega_i = (\\omega_{1i}, \\omega_{2i}) $$\n",
    "\n",
    "- La dotación total de cada bien en la economía es\n",
    "\n",
    "$$ \\bar{\\omega}_{\\ell} = \\omega_{\\ell 1} + \\omega_{\\ell 2} $$\n",
    "\n",
    "- Nos centraremos en asignaciones ($x_{\\ell i}$) que no generen desperdicios\n",
    "\n",
    "$$ x_{\\ell 1} + x_{\\ell 2} = \\bar{\\omega}_\\ell  $$\n",
    "\n",
    "- La ***Caja de Edgeworth*** es un rectángulo con longitud $\\bar{\\omega}_1$ y altura $\\bar{\\omega}_2$\n",
    "\n",
    "- Para un nivel de precios $p = (p_1 , p_2) \\in \\mathbb{R}^2$, el presupuesto del consumidor $i$ es\n",
    "\n",
    "$$ B_i(p) = \\Big\\{ x_i \\in \\mathbb{R}_{+}^{2}: p\\cdot x_i \\leq p \\cdot \\omega_i \\Big\\} $$\n",
    "\n",
    "- La linea presupuestaria se grafica de tal forma que su pendiente es $-p_1/p_2$\n",
    "\n",
    "- Asumimos que las $\\succsim_i$ son\n",
    "    - Estrictamente convexas (único máximo)\n",
    "    - Continuas\n",
    "    - Fuertemente monótonas\n",
    "    $$ \\text{si } x\\geq x', \\text{ con } x\\neq x', \\text{ entonces } x \\succ_i x' $$"
   ]
  },
  {
   "cell_type": "markdown",
   "metadata": {
    "id": "q0U-JNCOuIub"
   },
   "source": [
    "### Ejercicio\n",
    "\n",
    "Supongamos:\n",
    "\n",
    "- Cada individuo tiene preferencias Cobb-Douglas\n",
    "$$ u_i(x_{1i}, x_{2i}) = x_{1i}^{\\alpha} x_{2i}^{\\beta} $$\n",
    "donde $\\alpha=\\beta=0.5$\n",
    "\n",
    "- Las dotaciones son\n",
    "\\begin{align*}\n",
    "    \\omega_{1} &= (1,2) \\\\\n",
    "    \\omega_{2} &= (2,1)\n",
    "\\end{align*}\n",
    "\n",
    "- Dados los precios $p = (p_1,p_2)$, la riqueza ($W_i$) de los individuos es (normalizando $p_1 = 1$)\n",
    "\\begin{align*}\n",
    "    W_1 &= 1 + 2p_2 \\\\\n",
    "    W_2 &= 2 + p_2\n",
    "\\end{align*}"
   ]
  },
  {
   "cell_type": "code",
   "execution_count": 5,
   "metadata": {
    "id": "qTeCIIxkpg1Z"
   },
   "outputs": [],
   "source": [
    "class Edgeworth:\n",
    "\n",
    "    ### Inicia el objeto. Entregar funciones de utilidad para cada individuo\n",
    "    def __init__(self, preferencias_1, preferencias_2, parameters, ps, omegas):\n",
    "        \n",
    "        self.preferencias_1 = preferencias_1\n",
    "        self.preferencias_2 = preferencias_2\n",
    "        self.params_1 = parameters[0]\n",
    "        self.params_2 = parameters[1]\n",
    "        self.p1   = ps[0]   # Es una lista con los precios\n",
    "        self.p2   = ps[1]\n",
    "        self.omega_1 = omegas[0] # omegas una lista cuyos elementos son dos listas, cada una con dotaciones\n",
    "        self.omega_2 = omegas[1]\n",
    "    \n",
    "    ### Función inversa del consumidor 1\n",
    "    def preferencias_1_inv(self, x, u, params): \n",
    "        f = self.preferencias_1(x, x21, params)\n",
    "        inv = solve(f - u, x21)[0]\n",
    "        return inv\n",
    "\n",
    "    ### Función inversa del consumidor 2\n",
    "    def preferencias_2_inv(self, x, u, params): \n",
    "        f = self.preferencias_2(x, x22, params)\n",
    "        inv = solve(f - u, x22)[0]\n",
    "        return inv\n",
    "\n",
    "    ### Calcula las demandas\n",
    "    def demandas(self, p_eval=None):\n",
    "\n",
    "        ##Dados los supuestos, el óptimo satisface la CPO\n",
    "        # Calcula utilidades marginales\n",
    "        umg_11 = diff(self.preferencias_1(x11,x21,self.params_1), x11)\n",
    "        umg_21 = diff(self.preferencias_1(x11,x21,self.params_1), x21)\n",
    "\n",
    "        umg_12 = diff(self.preferencias_2(x12,x22,self.params_2), x12) \n",
    "        umg_22 = diff(self.preferencias_2(x12,x22,self.params_2), x22)\n",
    "\n",
    "        if p_eval == None: \n",
    "\n",
    "            # Para consumidor 1\n",
    "            cpo_condicion_1 = umg_11/umg_21 - p1/p2\n",
    "            restriccionRR_1 = p1*x11 + p2*x21 - self.omega_1[0]*p1 - self.omega_1[1]*p2\n",
    "            X1_sol = solve([cpo_condicion_1, restriccionRR_1], [x11, x21])\n",
    "\n",
    "            # Para consumidor 2\n",
    "            cpo_condicion_2 = umg_12/umg_22 - p1/p2\n",
    "            restriccionRR_2 = p1*x12 + p2*x22 - self.omega_2[0]*p1 - self.omega_2[1]*p2\n",
    "            X2_sol = solve([cpo_condicion_2, restriccionRR_2], [x12, x22])\n",
    "\n",
    "            return X1_sol, X2_sol\n",
    "        \n",
    "        else: \n",
    "\n",
    "            # Para consumidor 1\n",
    "            cpo_condicion_1 = umg_11/umg_21 - p_eval[0]/p_eval[1]\n",
    "            restriccionRR_1 = p_eval[0]*x11 + p_eval[1]*x21 - self.omega_1[0]*p_eval[0] - self.omega_1[1]*p_eval[1]\n",
    "            X1_sol = solve([cpo_condicion_1, restriccionRR_1], [x11, x21])\n",
    "\n",
    "            # Para consumidor 2\n",
    "            cpo_condicion_2 = umg_12/umg_22 - p_eval[0]/p_eval[1]\n",
    "            restriccionRR_2 = p_eval[0]*x12 + p_eval[1]*x22 - self.omega_2[0]*p_eval[0] - self.omega_2[1]*p_eval[1]\n",
    "            X2_sol = solve([cpo_condicion_2, restriccionRR_2], [x12, x22])\n",
    "\n",
    "            return X1_sol, X2_sol\n",
    "            \n",
    "\n",
    "    ### Utilidad inicial\n",
    "    def utilidad_inicial(self):\n",
    "        ### Calcula utilidad en las dotaciones\n",
    "        u0_1 = self.preferencias_1(self.omega_1[0], self.omega_1[1],self.params_1)\n",
    "        u0_2 = self.preferencias_2(self.omega_2[0], self.omega_2[1],self.params_2)\n",
    "        \n",
    "        return u0_1, u0_2\n",
    "\n",
    "    ### Precio de equilibrio para dotaciones\n",
    "    def p_equilibrio(self):\n",
    "\n",
    "        dems = self.demandas()\n",
    "        d1   = dems[0].values()\n",
    "        d2   = dems[1].values()\n",
    "\n",
    "        d11, d21 = d1\n",
    "        d12, d22 = d2\n",
    "\n",
    "        cond_clareo = d11 + d12 - self.omega_1[0] - self.omega_2[0]\n",
    "        p_eq = solve(cond_clareo, [p1], dict=True)[0]\n",
    "\n",
    "        return p_eq\n",
    "\n",
    "    ### Calcula utilidades marginales\n",
    "    def umg(self):\n",
    "\n",
    "        umg_11 = diff(self.preferencias_1(x11,x21,self.params_1), x11)\n",
    "        umg_21 = diff(self.preferencias_1(x11,x21,self.params_1), x21)\n",
    "\n",
    "        umg_12 = diff(self.preferencias_2(x12,x22,self.params_2), x12)\n",
    "        umg_22 = diff(self.preferencias_2(x12,x22,self.params_2), x22)\n",
    "\n",
    "        return {UMG11: umg_11, UMG12: umg_12, UMG21: umg_21, UMG22: umg_22}\n",
    "    \n",
    "    ### Obtiene Función de Curva de Contrato\n",
    "    def curva_contrato(self):\n",
    "\n",
    "        umg_11, umg_12, umg_21, umg_22 = self.umg().values()\n",
    "\n",
    "        # Dotaciones totales de cada bien\n",
    "        omega_bar_1 = self.omega_1[0] + self.omega_2[0]\n",
    "        omega_bar_2 = self.omega_1[1] + self.omega_2[1]\n",
    "        \n",
    "        # Deja la RMSs en función de solo dos variables\n",
    "        umg_12 = umg_12.subs([(x12, omega_bar_1 - x11), (x22, omega_bar_2 - x21)])\n",
    "        umg_22 = umg_22.subs([(x12, omega_bar_1 - x11), (x22, omega_bar_2 - x21)])\n",
    "\n",
    "        # Iguala las RMSs\n",
    "        rmss  = umg_11/umg_21 - umg_12/umg_22\n",
    "        return solve(rmss, x21)[0]\n",
    "\n",
    "    ### Obtiene funciones de la restricción presupuestaria\n",
    "    def rest_presupuesto(self):\n",
    "        rp1 = (self.p1*self.omega_1[0] + self.p2*self.omega_1[1])/self.p2 - x11*self.p1/self.p2\n",
    "        rp2 = (self.p1*self.omega_2[0] + self.p2*self.omega_2[1])/self.p2 - x12*self.p1/self.p2\n",
    "\n",
    "        return {x21: rp1, x22: rp2}\n",
    "\n",
    "    ### Obtiene funciones de oferta como vectores\n",
    "    def OC(self):\n",
    "        \n",
    "        of_11 = np.array([])\n",
    "        of_21 = np.array([])\n",
    "\n",
    "        of_12 = np.array([])\n",
    "        of_22 = np.array([])\n",
    "        \n",
    "        # Mueve solamente p1, de manera que cambia el precio relativo\n",
    "        p = np.linspace(1e-4, 10, 100)\n",
    "\n",
    "        for _p1 in p:\n",
    "            ofs = self.demandas([_p1, self.p2])\n",
    "\n",
    "            o11, o21 = ofs[0].values()\n",
    "            o12, o22 = ofs[1].values()\n",
    "\n",
    "            of_11 = np.append(of_11, o11)\n",
    "            of_21 = np.append(of_21, o21)\n",
    "            of_12 = np.append(of_12, o12)\n",
    "            of_22 = np.append(of_22, o22)\n",
    "        \n",
    "        return of_11, of_21, of_12, of_22\n",
    "\n",
    "    ### Obtiene gráfica de caja de Edgeworth\n",
    "    def caja_edgeworth(self):\n",
    "\n",
    "        omega_bar_1 = self.omega_1[0] + self.omega_2[0]\n",
    "        omega_bar_2 = self.omega_1[1] + self.omega_2[1]\n",
    "\n",
    "        u0_1, u0_2 = self.utilidad_inicial()\n",
    "\n",
    "        ### Curva de indiferencia en nivel dotación\n",
    "        x_eje = np.linspace(1e-4, omega_bar_1, 60) # Eje X\n",
    "\n",
    "        preferencias_1_inv_vector = np.vectorize(self.preferencias_1_inv, excluded=[\"params\"])\n",
    "        preferencias_2_inv_vector = np.vectorize(self.preferencias_2_inv, excluded=[\"params\"])\n",
    "        \n",
    "        ind_1 = preferencias_1_inv_vector(x = x_eje, u = u0_1, params = self.params_1)\n",
    "        ind_2 = preferencias_2_inv_vector(x = x_eje, u = u0_2, params = self.params_2)  \n",
    "\n",
    "        ### Curva de contrato\n",
    "        curva_contrato_vector = [self.curva_contrato().subs(x11, j) for j in x_eje]\n",
    "\n",
    "        ### Restricción presupuestaria\n",
    "        f1, f2 = self.rest_presupuesto().values() # En realidad solo necesitamos una, ya que son análogas\n",
    "        rest_presupuesto_vector = [f1.subs(x11, j) for j in [0, omega_bar_1]]\n",
    "\n",
    "        ### Ofertas\n",
    "        of_11, of_21, of_12, of_22,  = self.OC()\n",
    "\n",
    "        ### Gráficas\n",
    "        ############\n",
    "\n",
    "        fig, ax1 = plt.subplots()\n",
    "        ax2 = ax1.twinx().twiny()\n",
    "\n",
    "        # Arregla eje X\n",
    "        ax1.set_xlim(0, omega_bar_1)\n",
    "        ax2.set_xlim(omega_bar_1, 0)\n",
    "\n",
    "        # Arregla eje Y\n",
    "        ax1.set_ylim(0, omega_bar_2)\n",
    "        ax2.set_ylim(omega_bar_2, 0)\n",
    "\n",
    "        ## Grafica Curva indiferencia\n",
    "        ax1.plot(x_eje, ind_1, 'g-', label=\"CI. Ind. 1\")\n",
    "        ax2.plot(x_eje, ind_2, 'b-', label=\"CI. Ind. 2\")\n",
    "\n",
    "        ### Grafica Ofertas\n",
    "        ax1.plot(of_11, of_21, color = \"g\", linestyle=\"--\",label=\"Of. Ind. 1\")\n",
    "        ax2.plot(of_12, of_22, color = \"b\", linestyle=\"--\",label=\"Of. Ind. 2\")\n",
    "\n",
    "        ## Grafica Curva de Contrato\n",
    "        ax1.plot(x_eje, curva_contrato_vector, color = \"black\", label=\"Curva Contrato\")\n",
    "\n",
    "        ## Grafica restricción presupuestaria\n",
    "        ax1.plot([0, omega_bar_1], rest_presupuesto_vector, color = \"purple\", linestyle=\"-.\", label=\"RP\")\n",
    "\n",
    "        ## Grafica Dotaciones iniciales\n",
    "        ax1.scatter(self.omega_1[0], self.omega_1[1], s=35, marker= \"o\", color = \"g\", label=\"Dotación ind. 1\")\n",
    "        ax2.scatter(self.omega_2[0], self.omega_2[1], s=35, marker= \"o\", color = \"b\", label=\"Dotación ind. 2\")\n",
    "\n",
    "        ax1.set_xlabel('Bien 1, Cons.1', color=\"g\")\n",
    "        ax1.set_ylabel('Bien 2, Cons.1', color='g')\n",
    "        \n",
    "        ax2.set_xlabel('Bien 1, Cons.2', color='b')\n",
    "        ax2.set_ylabel('Bien 2, Cons.2', color='b')\n",
    "\n",
    "        fig.legend(loc='lower left', bbox_to_anchor= (0.0, 1.01), ncol=2,\n",
    "            borderaxespad=0, frameon=True)\n",
    "        plt.show()"
   ]
  },
  {
   "cell_type": "code",
   "execution_count": 6,
   "metadata": {
    "id": "tvMoIRsD4deb"
   },
   "outputs": [],
   "source": [
    "# Datos del enunciado\n",
    "parametros = [[0.5, 0.5], [0.5, 0.5]]\n",
    "dotaciones = [[1,2],[2,1]]\n",
    "p = [p1, p2]\n",
    "Edg = Edgeworth(CD1, CD2, parametros, p, dotaciones)"
   ]
  },
  {
   "cell_type": "markdown",
   "metadata": {
    "id": "cFxXwQe94Phk"
   },
   "source": [
    "- La utilidad que tienen los individuos (individuo 1, individuo 2) consumiendo sus dotaciones es"
   ]
  },
  {
   "cell_type": "code",
   "execution_count": 7,
   "metadata": {
    "colab": {
     "base_uri": "https://localhost:8080/",
     "height": 37
    },
    "id": "RKno0llul2ko",
    "outputId": "cbc90311-7768-48e4-97cf-1f5eca719423"
   },
   "outputs": [
    {
     "data": {
      "image/png": "[encoded data removed]",
      "text/latex": [
       "$\\displaystyle \\left( 1.4142135623731, \\  1.4142135623731\\right)$"
      ],
      "text/plain": [
       "(1.4142135623730951, 1.4142135623730951)"
      ]
     },
     "execution_count": 7,
     "metadata": {},
     "output_type": "execute_result"
    }
   ],
   "source": [
    "Edg.utilidad_inicial()"
   ]
  },
  {
   "cell_type": "markdown",
   "metadata": {
    "id": "mykXHipt6Btq"
   },
   "source": [
    "- Las utilidades marginales son"
   ]
  },
  {
   "cell_type": "code",
   "execution_count": 8,
   "metadata": {
    "colab": {
     "base_uri": "https://localhost:8080/",
     "height": 47
    },
    "id": "UWyywmhB6PBs",
    "outputId": "b17387fa-fe70-4636-c238-f5c07841fe94"
   },
   "outputs": [
    {
     "data": {
      "image/png": "[encoded data removed]",
      "text/latex": [
       "$\\displaystyle \\left\\{ UMG_{11} : \\frac{0.5 x_{21}^{0.5}}{x_{11}^{0.5}}, \\  UMG_{12} : \\frac{0.5 x_{22}^{0.5}}{x_{12}^{0.5}}, \\  UMG_{21} : \\frac{0.5 x_{11}^{0.5}}{x_{21}^{0.5}}, \\  UMG_{22} : \\frac{0.5 x_{12}^{0.5}}{x_{22}^{0.5}}\\right\\}$"
      ],
      "text/plain": [
       "⎧                    -0.5       0.5                      -0.5       0.5       \n",
       "⎨UMG_{11}: 0.5⋅x_{11}    ⋅x_{21}   , UMG_{12}: 0.5⋅x_{12}    ⋅x_{22}   , UMG_{\n",
       "⎩                                                                             \n",
       "\n",
       "               0.5       -0.5                      0.5       -0.5⎫\n",
       "21}: 0.5⋅x_{11}   ⋅x_{21}    , UMG_{22}: 0.5⋅x_{12}   ⋅x_{22}    ⎬\n",
       "                                                                 ⎭"
      ]
     },
     "execution_count": 8,
     "metadata": {},
     "output_type": "execute_result"
    }
   ],
   "source": [
    "Edg.umg()"
   ]
  },
  {
   "cell_type": "markdown",
   "metadata": {
    "id": "py1D7cNo6cp3"
   },
   "source": [
    "- La restricción presupuestaria es"
   ]
  },
  {
   "cell_type": "code",
   "execution_count": 9,
   "metadata": {
    "colab": {
     "base_uri": "https://localhost:8080/",
     "height": 47
    },
    "id": "Z_k162o36h9e",
    "outputId": "52acd96e-0515-4313-dc99-af3f942e5b9f"
   },
   "outputs": [
    {
     "data": {
      "image/png": "[encoded data removed]",
      "text/latex": [
       "$\\displaystyle \\left\\{ x_{21} : - \\frac{p_{1} x_{11}}{p_{2}} + \\frac{p_{1} + 2 p_{2}}{p_{2}}, \\  x_{22} : - \\frac{p_{1} x_{12}}{p_{2}} + \\frac{2 p_{1} + p_{2}}{p_{2}}\\right\\}$"
      ],
      "text/plain": [
       "⎧          p₁⋅x_{11}   p₁ + 2⋅p₂            p₁⋅x_{12}   2⋅p₁ + p₂⎫\n",
       "⎨x_{21}: - ───────── + ─────────, x_{22}: - ───────── + ─────────⎬\n",
       "⎩              p₂          p₂                   p₂          p₂   ⎭"
      ]
     },
     "execution_count": 9,
     "metadata": {},
     "output_type": "execute_result"
    }
   ],
   "source": [
    "Edg.rest_presupuesto()"
   ]
  },
  {
   "cell_type": "code",
   "execution_count": 10,
   "metadata": {
    "colab": {
     "base_uri": "https://localhost:8080/",
     "height": 47
    },
    "id": "EfzWFLDP6Dqi",
    "outputId": "4781b4be-5c53-4251-e9bc-66a893ec4c20"
   },
   "outputs": [
    {
     "data": {
      "image/png": "[encoded data removed]",
      "text/latex": [
       "$\\displaystyle \\left( \\left\\{ x_{11} : \\frac{0.5 p_{1} + p_{2}}{p_{1}}, \\  x_{21} : \\frac{0.5 p_{1} + p_{2}}{p_{2}}\\right\\}, \\  \\left\\{ x_{12} : \\frac{p_{1} + 0.5 p_{2}}{p_{1}}, \\  x_{22} : \\frac{p_{1} + 0.5 p_{2}}{p_{2}}\\right\\}\\right)$"
      ],
      "text/plain": [
       "⎛⎧        0.5⋅p₁ + p₂          0.5⋅p₁ + p₂⎫  ⎧        p₁ + 0.5⋅p₂          p₁ \n",
       "⎜⎨x_{11}: ───────────, x_{21}: ───────────⎬, ⎨x_{12}: ───────────, x_{22}: ───\n",
       "⎝⎩             p₁                   p₂    ⎭  ⎩             p₁                 \n",
       "\n",
       "+ 0.5⋅p₂⎫⎞\n",
       "────────⎬⎟\n",
       "  p₂    ⎭⎠"
      ]
     },
     "execution_count": 10,
     "metadata": {},
     "output_type": "execute_result"
    }
   ],
   "source": [
    "Edg.demandas() # Se puede evaluar en en un punto de precios demandas([p1,p2])"
   ]
  },
  {
   "cell_type": "markdown",
   "metadata": {
    "id": "QpgF9JTt5WRJ"
   },
   "source": [
    "- La curva de contrato para estas funciones de utilidad y dotaciones es ($x_{21} = \\; ...$)"
   ]
  },
  {
   "cell_type": "code",
   "execution_count": 11,
   "metadata": {
    "colab": {
     "base_uri": "https://localhost:8080/",
     "height": 38
    },
    "id": "jXH9udrJ5fBZ",
    "outputId": "5e8646d4-d3be-4956-b9a4-49920613ff8f"
   },
   "outputs": [
    {
     "data": {
      "image/png": "[encoded data removed]",
      "text/latex": [
       "$\\displaystyle x_{11}$"
      ],
      "text/plain": [
       "x_{11}"
      ]
     },
     "execution_count": 11,
     "metadata": {},
     "output_type": "execute_result"
    }
   ],
   "source": [
    "Edg.curva_contrato()"
   ]
  },
  {
   "cell_type": "markdown",
   "metadata": {
    "id": "Q1iGLnWz4w4Y"
   },
   "source": [
    "- El nivel de precios relativo que permite obtener un óptimo de pareto para estas dotaciones iniciales es"
   ]
  },
  {
   "cell_type": "code",
   "execution_count": 12,
   "metadata": {
    "colab": {
     "base_uri": "https://localhost:8080/",
     "height": 38
    },
    "id": "GWWBW0PL2myG",
    "outputId": "53741f23-fce1-4a51-fd12-50abf8f42f4c"
   },
   "outputs": [
    {
     "data": {
      "image/png": "[encoded data removed]",
      "text/latex": [
       "$\\displaystyle \\left\\{ p_{1} : p_{2}\\right\\}$"
      ],
      "text/plain": [
       "{p₁: p₂}"
      ]
     },
     "execution_count": 12,
     "metadata": {},
     "output_type": "execute_result"
    }
   ],
   "source": [
    "Edg.p_equilibrio()"
   ]
  },
  {
   "cell_type": "markdown",
   "metadata": {
    "id": "w9j6UlEK5B61"
   },
   "source": [
    "- Los precios son iguales, entonces para $p_1 = 1$, debe ser que $p_2 = 1$.\n",
    "\n",
    "- El gráfico de la Caja de Edgeworth para estos precios nos da"
   ]
  },
  {
   "cell_type": "code",
   "execution_count": 13,
   "metadata": {
    "colab": {
     "base_uri": "https://localhost:8080/",
     "height": 600
    },
    "id": "rAtfzPNc4_gd",
    "outputId": "0bc0b7df-5119-474f-c555-e8b2da6eabf1"
   },
   "outputs": [
    {
     "data": {
      "image/png": "[encoded data removed]",
      "text/plain": [
       "<Figure size 640x480 with 3 Axes>"
      ]
     },
     "metadata": {},
     "output_type": "display_data"
    }
   ],
   "source": [
    "p = [1, 1] # [p1, p2]\n",
    "Edg = Edgeworth(CD1, CD2, parametros, p, dotaciones)\n",
    "Edg.caja_edgeworth()"
   ]
  }
 ],
 "metadata": {
  "colab": {
   "collapsed_sections": [
    "XF_dh1vAphVz"
   ],
   "name": "Caja de Edgeworth",
   "provenance": []
  },
  "kernelspec": {
   "display_name": "Python 3",
   "language": "python",
   "name": "python3"
  },
  "language_info": {
   "codemirror_mode": {
    "name": "ipython",
    "version": 3
   },
   "file_extension": ".py",
   "mimetype": "text/x-python",
   "name": "python",
   "nbconvert_exporter": "python",
   "pygments_lexer": "ipython3",
   "version": "3.8.8"
  }
 },
 "nbformat": 4,
 "nbformat_minor": 1
}
